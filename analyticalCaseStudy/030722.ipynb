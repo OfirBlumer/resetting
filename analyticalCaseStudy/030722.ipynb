{
 "cells": [
  {
   "cell_type": "code",
   "execution_count": 572,
   "id": "fc3a23b3-c273-4a84-bcb8-eef6a27f813b",
   "metadata": {},
   "outputs": [],
   "source": [
    "import numpy as np\n",
    "import matplotlib.pyplot as plt\n",
    "import pandas as pd\n",
    "import scipy as scp\n",
    "from scipy import optimize\n",
    "from scipy import special\n",
    "from scipy import stats\n",
    "from itertools import product\n",
    "import xarray \n",
    "import warnings\n",
    "import seaborn as sns\n",
    "warnings.filterwarnings('ignore')\n",
    "\n",
    "def sample(func,params,rate):\n",
    "    searching = True\n",
    "    time = 0\n",
    "    while searching:\n",
    "        nextPassage = func(*params)\n",
    "        nextRate = np.random.exponential(1/rate)\n",
    "        if nextRate>nextPassage:\n",
    "            searching = False\n",
    "            time += nextPassage\n",
    "        else:\n",
    "            time += nextRate\n",
    "    return time\n",
    "\n",
    "def padeTr4_3(x,A,U1,D1,U2,D2,U3,D3,D4):\n",
    "    Tr = (U3*x**3+U2*x**2+x*U1+A)/(D4*x**4+D3*x**3+D2*x**2+x*D1+A)\n",
    "    return (1-Tr)/(Tr*x)\n",
    "\n",
    "def pade3_2_forLaplace(x,A,U1,D1,U2,D2,D3):\n",
    "    return (U2*x**2+x*U1+A)/(D3*x**3+D2*x**2+x*D1+A)\n",
    "\n",
    "def pade3_2(x,U0,U1,D1,U2,D2,D3):\n",
    "    return (U2*x**2+x*U1+U0)/(D3*x**3+D2*x**2+x*D1+1)\n",
    "\n",
    "def pade4_3_forLaplace(x,A,U1,D1,U2,D2,U3,D3,D4):\n",
    "    return (U3*x**3+U2*x**2+x*U1+A)/(D4*x**4+D3*x**3+D2*x**2+x*D1+A)\n",
    "\n",
    "def pade4_3(x,U0,D0,U1,D1,U2,D2,U3,D3,D4):\n",
    "    return (U3*x**3+U2*x**2+x*U1+U0)/(D4*x**4+D3*x**3+D2*x**2+x*D1+D0)\n",
    "\n",
    "def IGLaplace(rs,L,D,V):\n",
    "    return np.exp(L/(2*D)*(V-np.sqrt(V**2+4*D*rs)))\n",
    "# samples = scp.stats.invgauss.rvs(CV,scale=1/CV, size=100000)\n",
    "# Trs = np.array([sum(np.exp(-samples*r))/len(samples) for r in rs])\n",
    "# mus = (1-Trs)/(rs*Trs)\n",
    "# plt.plot(rs,mus,label=\"Exact\")"
   ]
  },
  {
   "cell_type": "code",
   "execution_count": 260,
   "id": "8af77b10-d394-4aee-b5ce-25bf48021ba9",
   "metadata": {},
   "outputs": [
    {
     "data": {
      "text/plain": [
       "0.8871497875706578"
      ]
     },
     "execution_count": 260,
     "metadata": {},
     "output_type": "execute_result"
    },
    {
     "data": {
      "image/png": "[encoded data removed]",
      "text/plain": [
       "<Figure size 432x288 with 1 Axes>"
      ]
     },
     "metadata": {
      "needs_background": "light"
     },
     "output_type": "display_data"
    }
   ],
   "source": [
    "CV = 10\n",
    "rate = \n",
    "fitFunction = pade4_3\n",
    "rs = np.linspace(0,40,10000)\n",
    "Trs = IGLaplace(rs,1,CV/2,1)\n",
    "mus = (1-Trs)/(rs*Trs)\n",
    "plt.plot(rs,mus,label=\"Exact\")\n",
    "\n",
    "selrs = np.linspace(rate,rate*8,8)\n",
    "selTrs = IGLaplace(selrs,1,CV/2,1)\n",
    "selmus = (1-selTrs)/(selrs*selTrs)\n",
    "plt.plot(selrs,selmus,\"o\",label=\"Exact\")\n",
    "\n",
    "# fitMus = scp.optimize.curve_fit(fitFunction, selrs, selmus,bounds=(0,np.inf))\n",
    "# preMus = fitFunction(rs,*fitMus[0])\n",
    "# plt.plot(rs,preMus,linestyle=\"dashed\")\n",
    "\n",
    "fitTrs  = scp.optimize.curve_fit(pade4_3_forLaplace, selrs, selTrs,bounds=(0,np.inf))\n",
    "fittedTrs = pade4_3_forLaplace(rs,*fitTrs[0])\n",
    "preTrs = (1-fittedTrs)/(rs*fittedTrs)\n",
    "plt.plot(rs,preTrs,linestyle=\"dashed\")\n",
    "(fitTrs[0][2]-fitTrs[0][1])/fitTrs[0][0]"
   ]
  },
  {
   "cell_type": "code",
   "execution_count": 495,
   "id": "c9e58eb5-87f7-40bf-a7b7-ea19fb9ec1ec",
   "metadata": {},
   "outputs": [
    {
     "data": {
      "text/plain": [
       "(0.7169477914400055, array([ 2.,  4.,  6.,  8., 10., 12., 14.]))"
      ]
     },
     "execution_count": 495,
     "metadata": {},
     "output_type": "execute_result"
    },
    {
     "data": {
      "image/png": "[encoded data removed]",
      "text/plain": [
       "<Figure size 432x288 with 1 Axes>"
      ]
     },
     "metadata": {
      "needs_background": "light"
     },
     "output_type": "display_data"
    }
   ],
   "source": [
    "rate = 2\n",
    "selrs = np.linspace(rate,rate*7,7)\n",
    "selTrs = IGLaplace(selrs,1,CV/2,1)\n",
    "# selTrs = np.insert(selTrs,0,1)\n",
    "# selrs = np.insert(selrs,0,0)\n",
    "plt.plot(rs,Trs)\n",
    "plt.plot(selrs,selTrs,\"o\",label=\"Exact\")\n",
    "fitTrs  = scp.optimize.curve_fit(pade3_2_forLaplace, selrs, selTrs,bounds=(0,np.inf))\n",
    "fittedTrs = pade3_2_forLaplace(rs,*fitTrs[0])\n",
    "plt.plot(rs,fittedTrs,linestyle=\"dashed\")\n",
    "(fitTrs[0][2]-fitTrs[0][1])/fitTrs[0][0], selrs\n",
    "# plt.xlim(0,1)\n",
    "# selTrs"
   ]
  },
  {
   "cell_type": "code",
   "execution_count": 395,
   "id": "edb7dc6d-42f0-4bf5-a424-b1414d051b14",
   "metadata": {},
   "outputs": [
    {
     "data": {
      "text/plain": [
       "7.965393173492257e-08"
      ]
     },
     "execution_count": 395,
     "metadata": {},
     "output_type": "execute_result"
    },
    {
     "data": {
      "image/png": "[encoded data removed]",
      "text/plain": [
       "<Figure size 432x288 with 1 Axes>"
      ]
     },
     "metadata": {
      "needs_background": "light"
     },
     "output_type": "display_data"
    }
   ],
   "source": [
    "CV = 10\n",
    "rate = 3\n",
    "fitFunction = pade3_2\n",
    "rs = np.linspace(0,40,10000)\n",
    "Trs = IGLaplace(rs,1,CV/2,1)\n",
    "mus = (1-Trs)/(rs*Trs)\n",
    "plt.plot(rs,mus,label=\"Exact\")\n",
    "\n",
    "selrs = np.linspace(rate,rate*2,8)\n",
    "selTrs = IGLaplace(selrs,1,CV/2,1)\n",
    "selmus = (1-selTrs)/(selrs*selTrs)\n",
    "plt.plot(selrs,selmus,\"o\",label=\"Exact\")\n",
    "\n",
    "fit = scp.optimize.curve_fit(pade3_2, selrs, selmus,bounds=(0,np.inf))\n",
    "fitted = pade3_2(rs,*fit[0])\n",
    "plt.plot(rs,fitted,linestyle=\"dashed\")\n",
    "fitted[0]"
   ]
  },
  {
   "cell_type": "code",
   "execution_count": 597,
   "id": "5847c889-b8aa-4c6e-9799-8d1eda766fde",
   "metadata": {},
   "outputs": [
    {
     "data": {
      "text/plain": [
       "[<matplotlib.lines.Line2D at 0x7f4080c5b610>]"
      ]
     },
     "execution_count": 597,
     "metadata": {},
     "output_type": "execute_result"
    },
    {
     "data": {
      "image/png": "[encoded data removed]",
      "text/plain": [
       "<Figure size 432x288 with 1 Axes>"
      ]
     },
     "metadata": {
      "needs_background": "light"
     },
     "output_type": "display_data"
    }
   ],
   "source": [
    "mu = 1000000\n",
    "CV = 5\n",
    "D = 0.5*mu*CV**2\n",
    "m = 2*D/mu\n",
    "s = mu/m\n",
    "rs = np.linspace(0,0.0001,10000)\n",
    "Trs = IGLaplace(rs,mu,D,1)\n",
    "mus = (1-Trs)/(rs*Trs)\n",
    "plt.plot(rs,mus,label=\"Exact\")\n",
    "\n",
    "samples = scp.stats.invgauss.rvs(m,scale=s, size=10000)\n",
    "Trs = np.array([sum(np.exp(-samples*r))/len(samples) for r in rs])\n",
    "mus = (1-Trs)/(rs*Trs)\n",
    "plt.plot(rs,mus,label=\"Exact\")"
   ]
  },
  {
   "cell_type": "code",
   "execution_count": 603,
   "id": "d79b5749-a165-484a-9767-855e07f63611",
   "metadata": {},
   "outputs": [
    {
     "data": {
      "text/html": [
       "<div>\n",
       "<style scoped>\n",
       "    .dataframe tbody tr th:only-of-type {\n",
       "        vertical-align: middle;\n",
       "    }\n",
       "\n",
       "    .dataframe tbody tr th {\n",
       "        vertical-align: top;\n",
       "    }\n",
       "\n",
       "    .dataframe thead th {\n",
       "        text-align: right;\n",
       "    }\n",
       "</style>\n",
       "<table border=\"1\" class=\"dataframe\">\n",
       "  <thead>\n",
       "    <tr style=\"text-align: right;\">\n",
       "      <th></th>\n",
       "      <th>rate</th>\n",
       "      <th>delta</th>\n",
       "      <th>meanTr</th>\n",
       "      <th>improvement</th>\n",
       "      <th>prediction</th>\n",
       "      <th>error</th>\n",
       "    </tr>\n",
       "  </thead>\n",
       "  <tbody>\n",
       "    <tr>\n",
       "      <th>0</th>\n",
       "      <td>10000.000000</td>\n",
       "      <td>1</td>\n",
       "      <td>596.933668</td>\n",
       "      <td>1.675228</td>\n",
       "      <td>565.718818</td>\n",
       "      <td>43.428118</td>\n",
       "    </tr>\n",
       "    <tr>\n",
       "      <th>0</th>\n",
       "      <td>5000.000000</td>\n",
       "      <td>1</td>\n",
       "      <td>485.470690</td>\n",
       "      <td>2.059857</td>\n",
       "      <td>765.687850</td>\n",
       "      <td>23.431215</td>\n",
       "    </tr>\n",
       "    <tr>\n",
       "      <th>0</th>\n",
       "      <td>3333.333333</td>\n",
       "      <td>1</td>\n",
       "      <td>424.989505</td>\n",
       "      <td>2.352999</td>\n",
       "      <td>655.595377</td>\n",
       "      <td>34.440462</td>\n",
       "    </tr>\n",
       "    <tr>\n",
       "      <th>0</th>\n",
       "      <td>2500.000000</td>\n",
       "      <td>1</td>\n",
       "      <td>385.198667</td>\n",
       "      <td>2.596063</td>\n",
       "      <td>648.451053</td>\n",
       "      <td>35.154895</td>\n",
       "    </tr>\n",
       "    <tr>\n",
       "      <th>0</th>\n",
       "      <td>2000.000000</td>\n",
       "      <td>1</td>\n",
       "      <td>356.336214</td>\n",
       "      <td>2.806338</td>\n",
       "      <td>332.860135</td>\n",
       "      <td>66.713986</td>\n",
       "    </tr>\n",
       "    <tr>\n",
       "      <th>0</th>\n",
       "      <td>1666.666667</td>\n",
       "      <td>1</td>\n",
       "      <td>334.111520</td>\n",
       "      <td>2.993013</td>\n",
       "      <td>560.865558</td>\n",
       "      <td>43.913444</td>\n",
       "    </tr>\n",
       "    <tr>\n",
       "      <th>0</th>\n",
       "      <td>1428.571429</td>\n",
       "      <td>1</td>\n",
       "      <td>316.289655</td>\n",
       "      <td>3.161659</td>\n",
       "      <td>552.913053</td>\n",
       "      <td>44.708695</td>\n",
       "    </tr>\n",
       "    <tr>\n",
       "      <th>0</th>\n",
       "      <td>1250.000000</td>\n",
       "      <td>1</td>\n",
       "      <td>301.571861</td>\n",
       "      <td>3.315959</td>\n",
       "      <td>513.634660</td>\n",
       "      <td>48.636534</td>\n",
       "    </tr>\n",
       "    <tr>\n",
       "      <th>0</th>\n",
       "      <td>1111.111111</td>\n",
       "      <td>1</td>\n",
       "      <td>289.142982</td>\n",
       "      <td>3.458497</td>\n",
       "      <td>524.513696</td>\n",
       "      <td>47.548630</td>\n",
       "    </tr>\n",
       "    <tr>\n",
       "      <th>0</th>\n",
       "      <td>1000.000000</td>\n",
       "      <td>1</td>\n",
       "      <td>278.461162</td>\n",
       "      <td>3.591165</td>\n",
       "      <td>494.099186</td>\n",
       "      <td>50.590081</td>\n",
       "    </tr>\n",
       "    <tr>\n",
       "      <th>0</th>\n",
       "      <td>909.090909</td>\n",
       "      <td>1</td>\n",
       "      <td>269.149811</td>\n",
       "      <td>3.715403</td>\n",
       "      <td>534.855510</td>\n",
       "      <td>46.514449</td>\n",
       "    </tr>\n",
       "    <tr>\n",
       "      <th>0</th>\n",
       "      <td>833.333333</td>\n",
       "      <td>1</td>\n",
       "      <td>260.937713</td>\n",
       "      <td>3.832332</td>\n",
       "      <td>467.589958</td>\n",
       "      <td>53.241004</td>\n",
       "    </tr>\n",
       "    <tr>\n",
       "      <th>0</th>\n",
       "      <td>769.230769</td>\n",
       "      <td>1</td>\n",
       "      <td>253.623755</td>\n",
       "      <td>3.942848</td>\n",
       "      <td>477.081880</td>\n",
       "      <td>52.291812</td>\n",
       "    </tr>\n",
       "    <tr>\n",
       "      <th>0</th>\n",
       "      <td>714.285714</td>\n",
       "      <td>1</td>\n",
       "      <td>247.055140</td>\n",
       "      <td>4.047679</td>\n",
       "      <td>481.114173</td>\n",
       "      <td>51.888583</td>\n",
       "    </tr>\n",
       "    <tr>\n",
       "      <th>0</th>\n",
       "      <td>666.666667</td>\n",
       "      <td>1</td>\n",
       "      <td>241.113359</td>\n",
       "      <td>4.147427</td>\n",
       "      <td>435.369317</td>\n",
       "      <td>56.463068</td>\n",
       "    </tr>\n",
       "    <tr>\n",
       "      <th>0</th>\n",
       "      <td>625.000000</td>\n",
       "      <td>1</td>\n",
       "      <td>235.704853</td>\n",
       "      <td>4.242594</td>\n",
       "      <td>455.757776</td>\n",
       "      <td>54.424222</td>\n",
       "    </tr>\n",
       "    <tr>\n",
       "      <th>0</th>\n",
       "      <td>588.235294</td>\n",
       "      <td>1</td>\n",
       "      <td>230.754619</td>\n",
       "      <td>4.333608</td>\n",
       "      <td>467.677212</td>\n",
       "      <td>53.232279</td>\n",
       "    </tr>\n",
       "    <tr>\n",
       "      <th>0</th>\n",
       "      <td>555.555556</td>\n",
       "      <td>1</td>\n",
       "      <td>226.201713</td>\n",
       "      <td>4.420833</td>\n",
       "      <td>415.777470</td>\n",
       "      <td>58.422253</td>\n",
       "    </tr>\n",
       "    <tr>\n",
       "      <th>0</th>\n",
       "      <td>526.315789</td>\n",
       "      <td>1</td>\n",
       "      <td>221.996022</td>\n",
       "      <td>4.504585</td>\n",
       "      <td>415.837597</td>\n",
       "      <td>58.416240</td>\n",
       "    </tr>\n",
       "    <tr>\n",
       "      <th>0</th>\n",
       "      <td>500.000000</td>\n",
       "      <td>1</td>\n",
       "      <td>218.095898</td>\n",
       "      <td>4.585139</td>\n",
       "      <td>508.024748</td>\n",
       "      <td>49.197525</td>\n",
       "    </tr>\n",
       "  </tbody>\n",
       "</table>\n",
       "</div>"
      ],
      "text/plain": [
       "           rate  delta      meanTr  improvement  prediction      error\n",
       "0  10000.000000      1  596.933668     1.675228  565.718818  43.428118\n",
       "0   5000.000000      1  485.470690     2.059857  765.687850  23.431215\n",
       "0   3333.333333      1  424.989505     2.352999  655.595377  34.440462\n",
       "0   2500.000000      1  385.198667     2.596063  648.451053  35.154895\n",
       "0   2000.000000      1  356.336214     2.806338  332.860135  66.713986\n",
       "0   1666.666667      1  334.111520     2.993013  560.865558  43.913444\n",
       "0   1428.571429      1  316.289655     3.161659  552.913053  44.708695\n",
       "0   1250.000000      1  301.571861     3.315959  513.634660  48.636534\n",
       "0   1111.111111      1  289.142982     3.458497  524.513696  47.548630\n",
       "0   1000.000000      1  278.461162     3.591165  494.099186  50.590081\n",
       "0    909.090909      1  269.149811     3.715403  534.855510  46.514449\n",
       "0    833.333333      1  260.937713     3.832332  467.589958  53.241004\n",
       "0    769.230769      1  253.623755     3.942848  477.081880  52.291812\n",
       "0    714.285714      1  247.055140     4.047679  481.114173  51.888583\n",
       "0    666.666667      1  241.113359     4.147427  435.369317  56.463068\n",
       "0    625.000000      1  235.704853     4.242594  455.757776  54.424222\n",
       "0    588.235294      1  230.754619     4.333608  467.677212  53.232279\n",
       "0    555.555556      1  226.201713     4.420833  415.777470  58.422253\n",
       "0    526.315789      1  221.996022     4.504585  415.837597  58.416240\n",
       "0    500.000000      1  218.095898     4.585139  508.024748  49.197525"
      ]
     },
     "execution_count": 603,
     "metadata": {},
     "output_type": "execute_result"
    }
   ],
   "source": [
    "datalist = []\n",
    "delta = 1\n",
    "for rate in np.linspace(1e-7,1e-7*20,20):\n",
    "    selrs = np.linspace(rate,rate*delta*10-(delta-1)*rate,10)\n",
    "    selTrs = IGLaplace(selrs,mu,D,1)\n",
    "    selTrs = np.insert(selTrs,0,1)\n",
    "    selrs = np.insert(selrs,0,0)\n",
    "    fitTrs = scp.optimize.curve_fit(pade4_3_forLaplace, selrs, selTrs,bounds=(0,np.inf))\n",
    "    Trs = IGLaplace(rate,mu,D,1)\n",
    "    mus = (1-Trs)/(rate*Trs)\n",
    "    prediction = (fitTrs[0][2]-fitTrs[0][1])/fitTrs[0][0]\n",
    "    datalist.append(pd.DataFrame(dict(rate = [0.001/rate],delta=delta,meanTr = mus/1000, \n",
    "                                      improvement = 1e6/mus, prediction = prediction/1000, error = abs(1e6-prediction)/1e4)))\n",
    "\n",
    "data = pd.concat(datalist)\n",
    "data"
   ]
  },
  {
   "cell_type": "code",
   "execution_count": 582,
   "id": "efc88954-be42-4b03-b800-01dc0fb95e0f",
   "metadata": {},
   "outputs": [
    {
     "data": {
      "text/plain": [
       "<AxesSubplot:xlabel='improvement', ylabel='error'>"
      ]
     },
     "execution_count": 582,
     "metadata": {},
     "output_type": "execute_result"
    },
    {
     "data": {
      "image/png": "[encoded data removed]",
      "text/plain": [
       "<Figure size 432x288 with 1 Axes>"
      ]
     },
     "metadata": {
      "needs_background": "light"
     },
     "output_type": "display_data"
    }
   ],
   "source": [
    "sns.lineplot(data=data.reset_index(),x=\"improvement\",y=\"error\",hue=\"delta\")"
   ]
  },
  {
   "cell_type": "code",
   "execution_count": 642,
   "id": "173dad2f-7823-4e7c-9481-e4cacb48400b",
   "metadata": {},
   "outputs": [
    {
     "data": {
      "text/plain": [
       "(540469.9138988897, 278461.1615403837)"
      ]
     },
     "execution_count": 642,
     "metadata": {},
     "output_type": "execute_result"
    }
   ],
   "source": [
    "\n",
    "\n",
    "def expansion(x,x0,delta,vals):\n",
    "\n",
    "    first = (-49/20*vals[0] + 6*vals[1] -15/2*vals[2] + 20/3*vals[3] -15/4*vals[4] + 6/5*vals[5] -1/6*vals[6])/delta\n",
    "    second = (469/90*vals[0] -223/10*vals[1] +879/20*vals[2] -949/18*vals[3] +41*vals[4] -201/10*vals[5] +1019/180*vals[6]-7/10*vals[7])/(delta**2)\n",
    "    third = (-801/80*vals[0] +349/6*vals[1] -18353/120*vals[2] +2391/10*vals[3] -1457/6*vals[4] +4891/30*vals[5] -561/8*vals[6]+527/30*vals[7]-469/240*vals[8])/(delta**3)\n",
    "    fourth = (1069/80*vals[0] -1316/15*vals[1] +15289/60*vals[2] -2144/5*vals[3] +10993/24*vals[4] -4772/15*vals[5] +2803/20*vals[6]-536/15*vals[7]+967/240 *vals[8])/(delta**4)\n",
    "    \n",
    "    return vals[0] + first*(x-x0) + second*(x-x0)**2/2 + third*(x-x0)**3/6 + fourth*(x-x0)**4/24,vals[0]\n",
    "\n",
    "delta = 1e-8\n",
    "rate = 10e-7\n",
    "rs = np.array([rate+i*delta for i in range(10)])\n",
    "Trs = IGLaplace(rs,mu,D,1)\n",
    "mus = (1-Trs)/(rs*Trs)\n",
    "expansion(0,rate,delta,mus)"
   ]
  }
 ],
 "metadata": {
  "kernelspec": {
   "display_name": "Python 3 (ipykernel)",
   "language": "python",
   "name": "python3"
  },
  "language_info": {
   "codemirror_mode": {
    "name": "ipython",
    "version": 3
   },
   "file_extension": ".py",
   "mimetype": "text/x-python",
   "name": "python",
   "nbconvert_exporter": "python",
   "pygments_lexer": "ipython3",
   "version": "3.8.10"
  }
 },
 "nbformat": 4,
 "nbformat_minor": 5
}

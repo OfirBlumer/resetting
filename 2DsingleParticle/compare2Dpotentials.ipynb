{
 "cells": [
  {
   "cell_type": "code",
   "execution_count": 1,
   "id": "5993db36-51c6-43aa-851f-a4484c8b5d2d",
   "metadata": {},
   "outputs": [],
   "source": [
    "import matplotlib.pyplot as plt\n",
    "import seaborn as sns\n",
    "import pandas as pd\n",
    "import scipy as scp\n",
    "import numpy as np"
   ]
  },
  {
   "cell_type": "markdown",
   "id": "76d353c0-dce7-42e4-8aac-1aa172db9223",
   "metadata": {},
   "source": [
    "We will compare different 2D potentials as potential case studies for systems with $CV>1$.\n",
    "We wish to find a known system with $CV\\gg 1$ in order to demonstrate the power of the resetting method.\n",
    "\n",
    "## Wolfe-Quapp potential\n",
    "\n",
    "Retrieved from:\n",
    "Quapp, W. A Growing String Method for the Reaction Pathway Defined by a Newton\n",
    "Trajectory. J. Chem. Phys. 2005, 122, 174106.\n",
    "\n",
    "The first checked potential is the Wolfe-Quapp potential:\n",
    "\n",
    "$V(x,y) = x^4+y^4−2x^2−4y^2+xy+0.3x+0.1y$"
   ]
  },
  {
   "cell_type": "code",
   "execution_count": 10,
   "id": "af9fd172-259a-469c-a117-9d879ab5edc6",
   "metadata": {},
   "outputs": [
    {
     "data": {
      "text/plain": [
       "<matplotlib.tri.tricontour.TriContourSet at 0x7f6114a32f70>"
      ]
     },
     "execution_count": 10,
     "metadata": {},
     "output_type": "execute_result"
    },
    {
     "data": {
      "image/png": "[encoded data removed]",
      "text/plain": [
       "<Figure size 432x288 with 1 Axes>"
      ]
     },
     "metadata": {
      "needs_background": "light"
     },
     "output_type": "display_data"
    }
   ],
   "source": [
    "points = np.linspace(-3,3,100)\n",
    "xs = []\n",
    "ys = []\n",
    "Vs = []\n",
    "levels = np.linspace(0,20,11)\n",
    "for x in points:\n",
    "    for y in points:\n",
    "        Vs.append(x**4+y**4-2*x**2-4*y**2+x*y+0.3*x+0.1*y)\n",
    "        xs.append(x)\n",
    "        ys.append(y)\n",
    "\n",
    "surface = pd.DataFrame({\"x\":xs,\"y\":ys,\"V\":Vs})\n",
    "surface.V -= surface.V.min() \n",
    "plt.tricontourf(surface.x,surface.y,surface.V,levels=levels)"
   ]
  },
  {
   "cell_type": "markdown",
   "id": "39d6373f-7fc0-4e71-a25d-808c458bf4fd",
   "metadata": {},
   "source": [
    "We actually used a slightly modified potential, in order to stretch the potential's coordinates and height:\n",
    "\n",
    "$V(x,y) = C_h\\left[(C_x x)^4+(C_y y)^4−2(C_x x)^2−4(C_y y)^2+C_x xC_yy+0.3C_x x+0.1C_yy\\right]$\n",
    "\n",
    "We defined the first passage time as the first time the particle's y coordinate changes its sign.\n",
    "\n",
    "However, we didn't get $CV\\gg 1$ when starting from the minima; the value of CV was about 1 at best.\n",
    "We then tried a modification (written without the stretch parameters for simplicity):\n",
    "\n",
    "$V(x,y) = x^4+y^4−2x^2−4y^2+xy+Cx$\n",
    "\n",
    "For instance, for $C=2$:"
   ]
  },
  {
   "cell_type": "code",
   "execution_count": 30,
   "id": "b7cbaa2f-a4b7-4575-a54b-6902b2365620",
   "metadata": {},
   "outputs": [
    {
     "data": {
      "text/plain": [
       "<matplotlib.tri.tricontour.TriContourSet at 0x7f6112c805b0>"
      ]
     },
     "execution_count": 30,
     "metadata": {},
     "output_type": "execute_result"
    },
    {
     "data": {
      "image/png": "[encoded data removed]",
      "text/plain": [
       "<Figure size 432x288 with 1 Axes>"
      ]
     },
     "metadata": {
      "needs_background": "light"
     },
     "output_type": "display_data"
    }
   ],
   "source": [
    "points = np.linspace(-3,3,100)\n",
    "xs = []\n",
    "ys = []\n",
    "Vs = []\n",
    "levels = np.linspace(0,20,11)\n",
    "for x in points:\n",
    "    for y in points:\n",
    "        Vs.append(x**4+y**4-2*x**2-4*y**2+x*y+2*x)\n",
    "        xs.append(x)\n",
    "        ys.append(y)\n",
    "\n",
    "surface = pd.DataFrame({\"x\":xs,\"y\":ys,\"V\":Vs})\n",
    "surface.V -= surface.V.min() \n",
    "plt.tricontourf(surface.x,surface.y,surface.V,levels=levels)"
   ]
  },
  {
   "cell_type": "markdown",
   "id": "1d351c3e-cb97-4999-8213-bb54aa43e861",
   "metadata": {},
   "source": [
    "Starting from the upper minimum, the results are similar to the unmodified version.\n",
    "Starting from the lower minimum, we can get a CV higher than 1.\n",
    "\n",
    "## Two Gaussian holes\n",
    "\n",
    "Retrieved from Gimondi, Ilaria & Tribello, Gareth & Salvalaglio, Matteo. (2018). Building Maps in Collective Variable Space. The Journal of Chemical Physics. 149. 10.1063/1.5027528. \n",
    "\n",
    "Another potential is:\n",
    "\n",
    "$V(x,y) = −(W_1 + W_2) + 4x^2 + 0.005y^2, W_i = A_i exp\\left(− \\frac{(x−x_i)^2}{(2\\alpha_i^2)} − \\frac{(y−y_i)^2}{(2\\lambda_i^2)}\\right)$\n",
    "\n",
    "Using the original constants from the article, the potential is:"
   ]
  },
  {
   "cell_type": "code",
   "execution_count": 44,
   "id": "ad2f94ef-b072-4d0c-9d5f-54cc0ed952f4",
   "metadata": {
    "tags": []
   },
   "outputs": [
    {
     "data": {
      "text/plain": [
       "<matplotlib.tri.tricontour.TriContourSet at 0x7f611290c040>"
      ]
     },
     "execution_count": 44,
     "metadata": {},
     "output_type": "execute_result"
    },
    {
     "data": {
      "image/png": "[encoded data removed]",
      "text/plain": [
       "<Figure size 432x288 with 1 Axes>"
      ]
     },
     "metadata": {
      "needs_background": "light"
     },
     "output_type": "display_data"
    }
   ],
   "source": [
    "pointsx = np.linspace(-5,5,100)\n",
    "pointsy = np.linspace(-50,50,100)\n",
    "xs = []\n",
    "ys = []\n",
    "Vs = []\n",
    "A = [50.1,50]\n",
    "alphas = [1.3,1.3]\n",
    "lambdas = [200,1]\n",
    "x0s = [2.5,-2.5]\n",
    "y0s = [0,0]\n",
    "\n",
    "levels = np.linspace(0,20,11)\n",
    "for x in pointsx:\n",
    "    for y in pointsy:\n",
    "        W_1 = A[0]*np.exp(-(x-x0s[0])**2/(2*alphas[0]**2)-(y-y0s[0])**2/(2*lambdas[0]**2))\n",
    "        W_2 = A[1]*np.exp(-(x-x0s[1])**2/(2*alphas[1]**2)-(y-y0s[1])**2/(2*lambdas[1]**2))\n",
    "        Vs.append(-(W_1 + W_2) + 4*x**2 + 0.005*y**2)\n",
    "        xs.append(x)\n",
    "        ys.append(y)\n",
    "\n",
    "surface = pd.DataFrame({\"x\":xs,\"y\":ys,\"V\":Vs})\n",
    "surface.V -= surface.V.min() \n",
    "plt.tricontourf(surface.x,surface.y,surface.V,levels=levels)"
   ]
  },
  {
   "cell_type": "markdown",
   "id": "174e0ccb-554b-4838-acbb-ae469a9dc692",
   "metadata": {},
   "source": [
    "Increasing $\\lambda_2$ by an order of magnitude in order we get:"
   ]
  },
  {
   "cell_type": "code",
   "execution_count": 52,
   "id": "e73354eb-0c45-4919-8414-3db42e5aad9f",
   "metadata": {},
   "outputs": [
    {
     "data": {
      "text/plain": [
       "<matplotlib.tri.tricontour.TriContourSet at 0x7f611240e8e0>"
      ]
     },
     "execution_count": 52,
     "metadata": {},
     "output_type": "execute_result"
    },
    {
     "data": {
      "image/png": "[encoded data removed]",
      "text/plain": [
       "<Figure size 432x288 with 1 Axes>"
      ]
     },
     "metadata": {
      "needs_background": "light"
     },
     "output_type": "display_data"
    }
   ],
   "source": [
    "pointsx = np.linspace(-5,5,100)\n",
    "pointsy = np.linspace(-50,50,100)\n",
    "xs = []\n",
    "ys = []\n",
    "Vs = []\n",
    "A = [50.1,50]\n",
    "alphas = [1.3,1.3]\n",
    "lambdas = [200,10]\n",
    "x0s = [2.5,-2.5]\n",
    "y0s = [0,0]\n",
    "\n",
    "levels = np.linspace(0,20,11)\n",
    "for x in pointsx:\n",
    "    for y in pointsy:\n",
    "        W_1 = A[0]*np.exp(-(x-x0s[0])**2/(2*alphas[0]**2)-(y-y0s[0])**2/(2*lambdas[0]**2))\n",
    "        W_2 = A[1]*np.exp(-(x-x0s[1])**2/(2*alphas[1]**2)-(y-y0s[1])**2/(2*lambdas[1]**2))\n",
    "        Vs.append(-(W_1 + W_2) + 4*x**2 + 0.005*y**2)\n",
    "        xs.append(x)\n",
    "        ys.append(y)\n",
    "\n",
    "surface = pd.DataFrame({\"x\":xs,\"y\":ys,\"V\":Vs})\n",
    "surface.V -= surface.V.min() \n",
    "plt.tricontourf(surface.x,surface.y,surface.V,levels=levels)"
   ]
  },
  {
   "cell_type": "markdown",
   "id": "c7158889-ba3f-41df-a7e9-20ff0acddf7d",
   "metadata": {},
   "source": [
    "We may expect a large CV for the passage from positive to negative values of x."
   ]
  },
  {
   "cell_type": "code",
   "execution_count": 75,
   "id": "7892f546-a68a-4beb-a938-d8c49d729ed7",
   "metadata": {},
   "outputs": [
    {
     "data": {
      "image/png": "[encoded data removed]",
      "text/plain": [
       "<Figure size 432x288 with 2 Axes>"
      ]
     },
     "metadata": {
      "needs_background": "light"
     },
     "output_type": "display_data"
    }
   ],
   "source": [
    "pointsx = np.linspace(-50,50,100)\n",
    "pointsy = np.linspace(-50,50,100)\n",
    "xs = []\n",
    "ys = []\n",
    "Vs = []\n",
    "A = [50.1,50]\n",
    "alphas = [13,13]\n",
    "lambdas = [200,10]\n",
    "x0s = [25,-25]\n",
    "y0s = [0,0]\n",
    "\n",
    "levels = np.linspace(0,10*0.00025,11)\n",
    "for x in pointsx:\n",
    "    for y in pointsy:\n",
    "        W_1 = A[0]*np.exp(-(x-x0s[0])**2/(2*alphas[0]**2)-(y-y0s[0])**2/(2*lambdas[0]**2))\n",
    "        W_2 = A[1]*np.exp(-(x-x0s[1])**2/(2*alphas[1]**2)-(y-y0s[1])**2/(2*lambdas[1]**2))\n",
    "        Vs.append(0.000075*(-(W_1 + W_2) + 0.04*x**2 + 0.004*y**2))\n",
    "        xs.append(x)\n",
    "        ys.append(y)\n",
    "\n",
    "surface = pd.DataFrame({\"x\":xs,\"y\":ys,\"V\":Vs})\n",
    "surface.V -= surface.V.min() \n",
    "plt.tricontourf(surface.x,surface.y,surface.V,levels=levels)\n",
    "cbar = plt.colorbar(ticks=levels)"
   ]
  }
 ],
 "metadata": {
  "kernelspec": {
   "display_name": "Python 3 (ipykernel)",
   "language": "python",
   "name": "python3"
  },
  "language_info": {
   "codemirror_mode": {
    "name": "ipython",
    "version": 3
   },
   "file_extension": ".py",
   "mimetype": "text/x-python",
   "name": "python",
   "nbconvert_exporter": "python",
   "pygments_lexer": "ipython3",
   "version": "3.8.10"
  }
 },
 "nbformat": 4,
 "nbformat_minor": 5
}
